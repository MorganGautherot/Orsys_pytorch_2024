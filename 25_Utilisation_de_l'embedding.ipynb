{
  "cells": [
    {
      "cell_type": "markdown",
      "metadata": {
        "id": "wi-aE_irXJY1"
      },
      "source": [
        "# Utilisation de Word2vec avec gensim"
      ]
    },
    {
      "cell_type": "markdown",
      "metadata": {
        "id": "Rap8I4aFXUM_"
      },
      "source": [
        "En même temps que l'article et le code de word2vec, Google a également publié un modèle word2vec pré-entraîné sur le projet [Word2Vec](https://code.google.com/archive/p/word2vec/).\n",
        "\n",
        "Un modèle pré-entraîné n'est rien d'autre qu'un fichier contenant des tokens et leurs vecteurs de mots associés. Le modèle word2vec pré-entraîné de Google a été entraîné sur les données de Google News (environ 100 milliards de mots) ; il contient 3 millions de mots et de phrases et a été ajusté en utilisant des vecteurs de mots à 300 dimensions.\n",
        "\n",
        "Il s'agit d'un fichier de 1,53 gigaoctet. Vous pouvez le télécharger [ici](https://drive.google.com/file/d/0B7XkCwpI5KDYNlNUTTlSS21pQmM/edit?resourcekey=0-wjGZdNAUop6WykTtMip30g)\n",
        "\n",
        "Vous n'avez pas à télécharger le jeu de données, je l'ai fait pour vous plus bas."
      ]
    },
    {
      "cell_type": "markdown",
      "metadata": {
        "id": "V5YZQNOFYB-G"
      },
      "source": [
        "# Importations des packages"
      ]
    },
    {
      "cell_type": "code",
      "execution_count": null,
      "metadata": {
        "id": "D7zxgkUGYF69"
      },
      "outputs": [],
      "source": [
        "import pandas as pd\n",
        "import numpy as np\n",
        "\n",
        "from gensim.models import KeyedVectors"
      ]
    },
    {
      "cell_type": "markdown",
      "metadata": {
        "id": "A7lgSjJNX_yo"
      },
      "source": [
        "# Importation des données"
      ]
    },
    {
      "cell_type": "markdown",
      "metadata": {
        "id": "Sifm-JJwYKW1"
      },
      "source": [
        "Ajoutez un raccourci de ce dossier à votre google drive :\n",
        "\n",
        "https://drive.google.com/drive/folders/1e6eRSPuZz3A3BXPVbggKHC_9XKU0MWAW?usp=sharing"
      ]
    },
    {
      "cell_type": "code",
      "execution_count": null,
      "metadata": {
        "id": "LdfnTuBRmMNy"
      },
      "outputs": [],
      "source": [
        "from google.colab import drive\n",
        "drive.mount('/content/drive', force_remount=True)"
      ]
    },
    {
      "cell_type": "markdown",
      "metadata": {
        "id": "1CHUkNJrZcwe"
      },
      "source": [
        "# Chargement du modèle avec gensim"
      ]
    },
    {
      "cell_type": "code",
      "execution_count": null,
      "metadata": {
        "id": "eD6MxJ8XYEDc"
      },
      "outputs": [],
      "source": [
        "path_word2vec = '/content/drive/MyDrive/AIForYou/embeddings/GoogleNews-vectors-negative300.bin'\n",
        "word2vec_model = KeyedVectors.load_word2vec_format(path_word2vec, binary=True)"
      ]
    },
    {
      "cell_type": "markdown",
      "source": [
        "# Vecteur d'embedding"
      ],
      "metadata": {
        "id": "go2rHJcTD-Q3"
      }
    },
    {
      "cell_type": "code",
      "source": [
        "word2vec_model.get_vector('office', norm=True)"
      ],
      "metadata": {
        "colab": {
          "base_uri": "https://localhost:8080/"
        },
        "id": "J2aWRyj6Cf8q",
        "outputId": "bf2386ae-09e1-4f73-bffa-f4a509e28a4e"
      },
      "execution_count": 8,
      "outputs": [
        {
          "output_type": "execute_result",
          "data": {
            "text/plain": [
              "array([-2.46561170e-02, -6.05955422e-02, -8.48337561e-02, -7.52220526e-02,\n",
              "       -6.42521679e-03, -6.60282448e-02, -6.10134415e-02, -1.18579213e-02,\n",
              "        6.05955422e-02,  5.39091378e-02,  4.11631800e-02,  2.40292661e-02,\n",
              "        2.53874436e-02, -8.27442557e-02, -2.48650666e-02,  1.49399359e-02,\n",
              "        1.42086102e-02,  9.29828174e-03,  3.02977711e-02,  3.30141224e-02,\n",
              "        3.30141224e-02, -3.02977711e-02,  3.53125744e-02,  2.42382176e-02,\n",
              "       -4.19989787e-02, -8.73411596e-02,  8.94567813e-04, -2.08950154e-02,\n",
              "       -7.73115531e-02, -6.89535514e-02, -1.73689809e-03, -1.37907099e-02,\n",
              "       -6.43566474e-02,  3.57304737e-02,  3.08201462e-03, -1.48354601e-02,\n",
              "        1.78652368e-02, -2.69545689e-02, -2.07644212e-03,  1.44175598e-02,\n",
              "        1.00296073e-01, -9.15201679e-02, -1.89099889e-02, -1.31899782e-03,\n",
              "       -8.90127644e-02,  1.41041353e-02, -1.38951847e-02,  3.84468287e-02,\n",
              "       -1.11161478e-01,  5.26554361e-02,  5.85060418e-02, -7.43862540e-02,\n",
              "        5.18196374e-02,  4.65958826e-02,  7.41773006e-03,  9.71618202e-03,\n",
              "       -6.64461479e-02, -3.53125744e-02, -4.78495844e-02,  4.11631800e-02,\n",
              "       -3.94915789e-02,  4.22079302e-02, -4.74316850e-02,  6.14313446e-02,\n",
              "        2.80776760e-04,  1.24847712e-02, -5.68344407e-02,  4.28347811e-02,\n",
              "        1.65070612e-02, -4.26258296e-02,  6.85356483e-02,  8.69232640e-02,\n",
              "        6.31029457e-02, -9.87289473e-03, -1.17847882e-01,  5.07748872e-02,\n",
              "        7.60578513e-02,  2.47605927e-02,  1.42086102e-02, -8.61919392e-03,\n",
              "        1.38951847e-02, -2.67456193e-02, -2.82082707e-02,  2.01636888e-02,\n",
              "       -5.24464883e-02,  2.20703590e-03, -3.39543982e-03, -5.16106859e-02,\n",
              "        3.55215259e-02,  4.76406328e-02,  6.10134415e-02, -6.64461479e-02,\n",
              "        2.20703590e-03, -1.24534287e-01, -1.16489707e-02,  2.82082707e-02,\n",
              "        2.57008672e-02,  3.53125744e-02,  3.97005258e-03,  2.02681646e-02,\n",
              "       -2.71635186e-02, -1.22862689e-01,  3.23872715e-02,  2.49695424e-02,\n",
              "        8.14905539e-02, -7.56399557e-02, -9.40275658e-03, -7.52220526e-02,\n",
              "        3.65662761e-02, -6.26850426e-02, -4.78495844e-02, -1.69249624e-02,\n",
              "       -1.30384892e-01, -1.88055132e-02,  3.32230739e-02,  3.76110263e-02,\n",
              "       -3.32230739e-02,  1.85965635e-02,  9.56991687e-02, -1.28504336e-02,\n",
              "       -1.53787315e-01, -5.05659357e-02, -2.75814198e-02,  4.26258296e-02,\n",
              "       -5.89239411e-02,  1.13877831e-02, -7.06022984e-05,  7.31325522e-02,\n",
              "        1.69667512e-01,  1.13877831e-02,  4.80585322e-02, -1.88055128e-01,\n",
              "       -5.85060427e-03, -2.00592149e-02,  1.94323640e-02, -6.51924461e-02,\n",
              "       -1.17847882e-01, -5.85060427e-03, -6.73864223e-03,  4.97301333e-02,\n",
              "       -3.51036228e-02, -2.49760720e-04, -4.17900309e-02, -1.08131701e-02,\n",
              "       -1.21713458e-02, -6.37297938e-03, -4.86853831e-02, -2.96709202e-02,\n",
              "       -2.16263402e-02,  1.06146678e-01,  1.38742894e-01,  9.69528705e-02,\n",
              "        5.68344407e-02,  7.64757544e-02,  5.28643876e-02, -3.74020748e-02,\n",
              "       -2.00592149e-02, -4.13721278e-02, -8.72366875e-03, -2.06338265e-03,\n",
              "       -6.43566474e-02,  4.82674837e-02, -2.32979413e-02, -2.73724701e-02,\n",
              "       -2.02681646e-02,  2.46561170e-02, -2.90440712e-02,  3.34320217e-02,\n",
              "       -5.68344407e-02, -3.47379618e-03, -3.23872715e-02,  8.30576848e-03,\n",
              "        6.01776429e-02, -1.23280585e-02, -3.07156723e-02, -1.00296073e-01,\n",
              "        5.26554361e-02,  1.62981115e-02,  1.97457895e-02,  8.93261842e-03,\n",
              "       -1.62981108e-01,  8.52516592e-02, -1.18683681e-01, -6.81177452e-02,\n",
              "        1.06042195e-02, -3.63573246e-02,  6.64461479e-02,  9.65349674e-02,\n",
              "        2.45516431e-02,  9.02664661e-02, -5.90284169e-03,  1.71339121e-02,\n",
              "       -1.88055132e-02,  1.08654074e-01, -9.24604386e-03,  5.85060418e-02,\n",
              "        2.49695424e-02,  1.25892460e-02,  2.75814198e-02,  8.02368596e-02,\n",
              "       -1.57966316e-01,  8.14905539e-02,  7.43862540e-02, -6.52969209e-03,\n",
              "        2.62232441e-02, -7.10430518e-02,  1.16176285e-01,  6.60282448e-02,\n",
              "       -3.63573246e-02, -1.31638590e-02,  4.65958826e-02, -5.34912385e-02,\n",
              "       -5.55807389e-02,  4.15288424e-03, -7.73115531e-02,  5.97597435e-02,\n",
              "       -8.06547552e-02,  2.98798718e-02, -9.65349674e-02,  4.82674837e-02,\n",
              "        2.23576650e-02,  2.15218645e-02, -9.06843618e-02,  3.40588726e-02,\n",
              "       -5.22375386e-03, -1.98502634e-02, -1.28713295e-01,  7.22967535e-02,\n",
              "        8.82814359e-03,  1.06564574e-02,  1.06146678e-01,  5.11927865e-02,\n",
              "       -1.11161478e-01, -1.37907103e-01, -4.13721278e-02,  1.38951847e-02,\n",
              "       -1.64025873e-02,  9.14156903e-04, -1.31638590e-02,  2.44471673e-02,\n",
              "        4.42974307e-02, -2.61187693e-03,  6.43566474e-02, -1.48354601e-02,\n",
              "        2.07905397e-02, -7.10430518e-02, -9.76841897e-03, -4.95211855e-02,\n",
              "        9.52812657e-02, -5.43270372e-02, -8.14905539e-02,  7.10430508e-03,\n",
              "        2.06860639e-02,  5.34912385e-02, -8.52516592e-02,  3.83945904e-03,\n",
              "       -6.01776429e-02, -8.67143087e-03,  9.24604386e-03, -5.39091378e-02,\n",
              "       -3.74020748e-02,  1.29026715e-02, -2.27755662e-02,  4.36705798e-02,\n",
              "        9.31917652e-02,  9.11022648e-02,  4.70137820e-02, -2.73724701e-02,\n",
              "       -3.17604207e-02, -5.14017344e-02,  7.68936574e-02,  3.44767757e-02,\n",
              "        6.79087965e-03, -9.15201679e-02, -6.26850426e-02, -4.78495844e-02,\n",
              "        7.06251487e-02, -5.51628396e-02,  2.04771142e-02, -1.68204866e-02,\n",
              "       -5.55807389e-02, -2.60142926e-02, -1.26937218e-02,  1.31220698e-01,\n",
              "        2.01636888e-02,  9.98781696e-02, -4.51332331e-02, -5.43270400e-03,\n",
              "       -3.78722150e-04, -1.19101582e-02, -1.46265104e-01, -2.07905397e-02,\n",
              "        1.10221207e-02,  3.19693722e-02,  3.02977720e-03, -5.24464883e-02,\n",
              "        3.23872715e-02, -3.53125744e-02, -1.15340479e-01, -5.07748872e-02],\n",
              "      dtype=float32)"
            ]
          },
          "metadata": {},
          "execution_count": 8
        }
      ]
    },
    {
      "cell_type": "markdown",
      "metadata": {
        "id": "X0dMwn_zaRhh"
      },
      "source": [
        "# Similarité entre les mots"
      ]
    },
    {
      "cell_type": "markdown",
      "metadata": {
        "id": "Ctln2tx8a22w"
      },
      "source": [
        "### Woman"
      ]
    },
    {
      "cell_type": "code",
      "execution_count": 9,
      "metadata": {
        "colab": {
          "base_uri": "https://localhost:8080/"
        },
        "id": "PBlqYJTMaUcF",
        "outputId": "3a67644a-14f2-43c6-a9cf-ca8870d60beb"
      },
      "outputs": [
        {
          "output_type": "execute_result",
          "data": {
            "text/plain": [
              "[('man', 0.7664012908935547),\n",
              " ('girl', 0.7494640946388245),\n",
              " ('teenage_girl', 0.7336829304695129),\n",
              " ('teenager', 0.6317085027694702),\n",
              " ('lady', 0.6288785934448242)]"
            ]
          },
          "metadata": {},
          "execution_count": 9
        }
      ],
      "source": [
        "word2vec_model.most_similar(['woman'], topn=5)"
      ]
    },
    {
      "cell_type": "markdown",
      "metadata": {
        "id": "zQYU4oBEa4xU"
      },
      "source": [
        "### King"
      ]
    },
    {
      "cell_type": "code",
      "execution_count": 10,
      "metadata": {
        "colab": {
          "base_uri": "https://localhost:8080/"
        },
        "id": "ntzZyWjha8Kp",
        "outputId": "992f4c4c-56f2-4550-fd6b-17f7c5012968"
      },
      "outputs": [
        {
          "output_type": "execute_result",
          "data": {
            "text/plain": [
              "[('kings', 0.7138045430183411),\n",
              " ('queen', 0.6510956883430481),\n",
              " ('monarch', 0.6413194537162781),\n",
              " ('crown_prince', 0.6204220056533813),\n",
              " ('prince', 0.6159993410110474)]"
            ]
          },
          "metadata": {},
          "execution_count": 10
        }
      ],
      "source": [
        "word2vec_model.most_similar(['king'], topn=5)"
      ]
    },
    {
      "cell_type": "markdown",
      "metadata": {
        "id": "rzT-kMSsa6fy"
      },
      "source": [
        "### Man"
      ]
    },
    {
      "cell_type": "code",
      "execution_count": 11,
      "metadata": {
        "colab": {
          "base_uri": "https://localhost:8080/"
        },
        "id": "1rgte8kRa8dh",
        "outputId": "9e8d6cbd-6a96-4a33-c6e4-6715af1f1290"
      },
      "outputs": [
        {
          "output_type": "execute_result",
          "data": {
            "text/plain": [
              "[('woman', 0.7664012908935547),\n",
              " ('boy', 0.6824871301651001),\n",
              " ('teenager', 0.6586930155754089),\n",
              " ('teenage_girl', 0.6147903203964233),\n",
              " ('girl', 0.5921714305877686)]"
            ]
          },
          "metadata": {},
          "execution_count": 11
        }
      ],
      "source": [
        "word2vec_model.most_similar(['man'], topn=5)"
      ]
    },
    {
      "cell_type": "markdown",
      "metadata": {
        "id": "7Q0f9kemZg0q"
      },
      "source": [
        "# Calcul sur les mots"
      ]
    },
    {
      "cell_type": "markdown",
      "metadata": {
        "id": "V3rnfBAoZnAg"
      },
      "source": [
        "### Woman + King - Man = ?"
      ]
    },
    {
      "cell_type": "code",
      "execution_count": 12,
      "metadata": {
        "colab": {
          "base_uri": "https://localhost:8080/"
        },
        "id": "KyVrYY9DYsld",
        "outputId": "c3c5dd5d-df43-4ca2-a0f7-dfd2bbbf9d99"
      },
      "outputs": [
        {
          "output_type": "stream",
          "name": "stdout",
          "text": [
            "[('queen', 0.7118193507194519)]\n"
          ]
        }
      ],
      "source": [
        "result = word2vec_model.most_similar(positive=['woman', 'king'], negative=['man'], topn=1)\n",
        "print(result)"
      ]
    },
    {
      "cell_type": "markdown",
      "metadata": {
        "id": "PPPlPvmSZrT1"
      },
      "source": [
        "### Amusez-vous !"
      ]
    },
    {
      "cell_type": "code",
      "execution_count": 16,
      "metadata": {
        "id": "fVCeNStIaDgY",
        "colab": {
          "base_uri": "https://localhost:8080/"
        },
        "outputId": "4608537b-732b-43b9-c841-c113765bf903"
      },
      "outputs": [
        {
          "output_type": "stream",
          "name": "stdout",
          "text": [
            "[('Madrid', 0.7571905255317688)]\n"
          ]
        }
      ],
      "source": [
        "result = word2vec_model.most_similar(positive=['Paris', 'Spain'], negative=['France'], topn=1)\n",
        "print(result)"
      ]
    },
    {
      "cell_type": "code",
      "source": [],
      "metadata": {
        "id": "PEBI5ZZuSkYG"
      },
      "execution_count": null,
      "outputs": []
    }
  ],
  "metadata": {
    "colab": {
      "provenance": []
    },
    "kernelspec": {
      "display_name": "Python 3",
      "name": "python3"
    },
    "language_info": {
      "name": "python"
    }
  },
  "nbformat": 4,
  "nbformat_minor": 0
}